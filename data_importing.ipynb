{
 "cells": [
  {
   "cell_type": "code",
   "execution_count": 1,
   "metadata": {},
   "outputs": [
    {
     "name": "stdout",
     "output_type": "stream",
     "text": [
      "Loading library list...\n",
      "Done\n"
     ]
    }
   ],
   "source": [
    "#Import libraries and create pass to download data\n",
    "import numpy as np\n",
    "import datetime\n",
    "import pandas as pd\n",
    "import matplotlib.pyplot as plt\n",
    "import datetime\n",
    "from numpy.linalg import inv\n",
    "import wrds\n",
    "db=wrds.Connection(wrds_username='michdan')"
   ]
  },
  {
   "attachments": {},
   "cell_type": "markdown",
   "metadata": {},
   "source": [
    "### Daily Data"
   ]
  },
  {
   "cell_type": "code",
   "execution_count": 2,
   "metadata": {},
   "outputs": [],
   "source": [
    "#import data from CRSP\n",
    "stock_daily_data = db.raw_sql(\"\"\"\n",
    "                    select a.permno, a.date, a.ret\n",
    "                      from crsp.dsf as a\n",
    "                      left join crsp.msenames as b\n",
    "                      on a.permno=b.permno\n",
    "                      and b.namedt<=a.date\n",
    "                      and a.date<=b.nameendt\n",
    "                      where a.date between '01/01/1925' and '12/31/2022'\n",
    "                      and b.exchcd between 1 and 3\n",
    "                      and b.shrcd between 10 and 11\n",
    "                      \"\"\", date_cols=['date']) \n",
    "\n",
    "#import data from CRSP\n",
    "Rmd=db.raw_sql(\"\"\"select  date,vwretd from crsp.dsi \n",
    "                where date>='1925-01-01' and date<='2022-12-31'\n",
    "                \"\"\",date_cols=['date'])\n",
    "\n",
    "#modify data\n",
    "stock_daily_data = stock_daily_data.rename(columns={'ret':'Rn'})\n",
    "Rmd = Rmd.rename(columns={'vwretd':'Rmd'})\n",
    "\n",
    "#save data in local\n",
    "stock_daily_data.to_csv('data_daily')\n",
    "Rmd.to_csv('Rm_daily.csv')"
   ]
  },
  {
   "attachments": {},
   "cell_type": "markdown",
   "metadata": {},
   "source": [
    "### Monthly Data"
   ]
  },
  {
   "cell_type": "code",
   "execution_count": null,
   "metadata": {},
   "outputs": [],
   "source": [
    "#import data from CRSP\n",
    "stock_data = db.raw_sql(\"\"\"\n",
    "                    select a.permno, a.date, a.ret, a.shrout, a.prc, b.siccd\n",
    "                      from crsp.msf as a\n",
    "                      left join crsp.msenames as b\n",
    "                      on a.permno=b.permno\n",
    "                      and b.namedt<=a.date\n",
    "                      and a.date<=b.nameendt\n",
    "                      where a.date between '01/01/1925' and '12/31/2022'\n",
    "                      and b.exchcd between 1 and 3\n",
    "                      and b.shrcd between 10 and 11\n",
    "                      \"\"\", date_cols=['date']) \n",
    "\n",
    "#import data from CRSP\n",
    "Rf=db.raw_sql(\"\"\"select  mcaldt,tmytm \n",
    "           from crsp.tfz_mth_rf            \n",
    "            where kytreasnox = 2000001 \n",
    "           and mcaldt>='1925-01-01'\n",
    "            and mcaldt<='2022-12-31'\"\"\", date_cols=['mcaldt'])\n",
    "\n",
    "#import data from CRSP\n",
    "Rm=db.raw_sql(\"\"\"select  date,vwretd from crsp.msi \n",
    "                where date>='1925-01-01' and date<='2022-12-31'\n",
    "                \"\"\",date_cols=['date'])\n",
    "\n",
    "#modify data\n",
    "stock_data = stock_data.rename(columns={'ret':'Rn'})\n",
    "\n",
    "Rf['tmytm']=np.exp(Rf['tmytm']/12/100)-1\n",
    "Rf=Rf.rename(columns={ \"mcaldt\": \"date\",\"tmytm\": \"rf\"})\n",
    "\n",
    "Rm = Rm.rename(columns={'vwretd':'Rm'})\n",
    "\n",
    "data = pd.merge(stock_data, Rf, on=['date'], how='left')\n",
    "data = pd.merge(data, Rm, on=['date'], how='left')\n",
    "data = data.sort_values(['permno','date'])\n",
    "data['mcap'] = np.abs(data['prc'])*data['shrout']\n",
    "data['mcap_l'] = data.groupby(['permno'])['mcap'].shift(1)\n",
    "data['Rn_f'] = data.groupby(['permno'])['Rn'].shift(-1)\n",
    "data['const'] = 1\n",
    "data['Rn_e'] = data['Rn']-data['rf']\n",
    "data['Rm_e'] = data['Rm']-data['rf']\n",
    "data['w_m'] = data['mcap_l']/data.groupby(['date'])['mcap_l'].transform('sum')\n",
    "data = data.dropna(subset=['mcap_l','Rn_e','Rm_e']).copy()\n",
    "\n",
    "#save data in local\n",
    "data.to_csv('data_monthly.csv')\n",
    "Rm.to_csv('Rm.csv')\n",
    "Rf.to_csv('Rf.csv')"
   ]
  }
 ],
 "metadata": {
  "kernelspec": {
   "display_name": "Python 3",
   "language": "python",
   "name": "python3"
  },
  "language_info": {
   "codemirror_mode": {
    "name": "ipython",
    "version": 3
   },
   "file_extension": ".py",
   "mimetype": "text/x-python",
   "name": "python",
   "nbconvert_exporter": "python",
   "pygments_lexer": "ipython3",
   "version": "3.11.2"
  },
  "orig_nbformat": 4
 },
 "nbformat": 4,
 "nbformat_minor": 2
}
